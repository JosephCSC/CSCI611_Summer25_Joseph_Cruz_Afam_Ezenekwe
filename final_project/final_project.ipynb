{
 "cells": [
  {
   "cell_type": "markdown",
   "id": "f25c532a",
   "metadata": {},
   "source": [
    "## CSGO ROUND PREDICTING MODEL\n",
    "---\n",
    "In this notebook we are creating a MLP to accurately predict the winner of a CSGO round.\n",
    "Since the data we are dealing with is tabular we chose to use a standard MLP and focus on expanding upon it"
   ]
  },
  {
   "cell_type": "code",
   "execution_count": 15,
   "id": "040d443d",
   "metadata": {},
   "outputs": [
    {
     "name": "stdout",
     "output_type": "stream",
     "text": [
      "CUDA is available!  Training on GPU ...\n"
     ]
    }
   ],
   "source": [
    "import torch\n",
    "from torch.utils.data import TensorDataset, DataLoader\n",
    "import numpy as np\n",
    "\n",
    "# check if CUDA is available\n",
    "train_on_gpu = torch.cuda.is_available()\n",
    "\n",
    "if not train_on_gpu:\n",
    "    print('CUDA is not available.  Training on CPU ...')\n",
    "else:\n",
    "    print('CUDA is available!  Training on GPU ...')"
   ]
  },
  {
   "cell_type": "markdown",
   "id": "3850407b",
   "metadata": {},
   "source": [
    "## Create a Dictionary for easy Hyperparameter tuning"
   ]
  },
  {
   "cell_type": "code",
   "execution_count": 16,
   "id": "59c2489f",
   "metadata": {},
   "outputs": [],
   "source": [
    "PARAM = {\n",
    "    'n_epochs': 50,\n",
    "    'learning_rate': 0.01,\n",
    "    \n",
    "    #normalization function can be min_max, z_score\n",
    "    'norm_func': 'min_max',\n",
    "    #optimizer can be SGD or ADAM\n",
    "    'optim': 'ADAM',\n",
    "    #architecture can be 0, 1 or 2\n",
    "    'model_arch' : 2,\n",
    "}"
   ]
  },
  {
   "cell_type": "markdown",
   "id": "99016d58",
   "metadata": {},
   "source": [
    "## Load and Normalize the Data\n",
    "---\n",
    "We will load the data from the included csv file \"csgo_round_snapshots.csv\".\n"
   ]
  },
  {
   "cell_type": "code",
   "execution_count": 17,
   "id": "97ef3a43",
   "metadata": {},
   "outputs": [
    {
     "name": "stdout",
     "output_type": "stream",
     "text": [
      "<class 'pandas.core.frame.DataFrame'>\n",
      "RangeIndex: 122410 entries, 0 to 122409\n",
      "Columns: 102 entries, time_left to map_de_vertigo\n",
      "dtypes: float64(102)\n",
      "memory usage: 95.3 MB\n"
     ]
    }
   ],
   "source": [
    "import pandas as pd\n",
    "from torch.utils.data.sampler import SubsetRandomSampler\n",
    "\n",
    "# percentage of training set to use as validation\n",
    "valid_size = 0.20\n",
    "test_size = .05\n",
    "\n",
    "batch_size = 32\n",
    "\n",
    "\n",
    "#load the data into a dataframe using pandas\n",
    "df = pd.read_csv('csgo_round_snapshots.csv')\n",
    "\n",
    "# obtain training indices that will be used for validation\n",
    "num_train = len(df)\n",
    "indices = list(range(num_train))\n",
    "np.random.shuffle(indices)\n",
    "split_1 = int(np.floor(valid_size * num_train))\n",
    "split_2 = int(np.floor(num_train - (test_size * num_train)))\n",
    "train_idx, valid_idx, test_idx = indices[split_1:split_2], indices[:split_1], indices[split_2:]\n",
    "\n",
    "train_sampler = SubsetRandomSampler(train_idx)\n",
    "valid_sampler = SubsetRandomSampler(valid_idx)\n",
    "test_sampler = SubsetRandomSampler(test_idx)\n",
    "\n",
    "#now we must seperate the features from the labels\n",
    "features = df.drop('round_winner', axis=1)\n",
    "labels   = df['round_winner']\n",
    "\n",
    "\n",
    "\n",
    "\n",
    "#perform one hot encoding on the map column\n",
    "features = pd.get_dummies(features,columns=['map'], drop_first=True)\n",
    "\n",
    "for column in features.columns:\n",
    "    #skips if column is a boolean\n",
    "    if pd.api.types.is_bool_dtype(features[column]):\n",
    "        continue\n",
    "\n",
    "    #skips if column does not change in value\n",
    "    if features[column].max() - features[column].min() == 0:\n",
    "        continue\n",
    "    \n",
    "    if PARAM['norm_func'] == 'min_max':\n",
    "        features[column] = (features[column] - features[column].min()) / (features[column].max() - features[column].min())\n",
    "    elif PARAM['norm_func'] == 'z_score':\n",
    "        features[column] = (features[column] - features[column].mean()) / features[column].std()\n",
    "    else:\n",
    "        continue\n",
    "\n",
    "\n",
    "labels = labels.replace({'CT': 0, 'T': 1})\n",
    "\n",
    "#had trouble with boolean type conversion now we implicitly change bools to floats\n",
    "for column in features.select_dtypes(include='bool').columns:\n",
    "    features[column] = features[column].astype(float)\n",
    "\n",
    "features.info()\n",
    "\n",
    "\n",
    "features_np = features.values\n",
    "labels_np = labels.values\n",
    "\n",
    "#create tensors from the numpy values\n",
    "features_tensor = torch.tensor(features_np, dtype=torch.float32)\n",
    "labels_tensor = torch.tensor(labels_np, dtype=torch.float32).unsqueeze(1)\n",
    "\n",
    "#combine the two tensors into the dataset\n",
    "dataset = TensorDataset(features_tensor, labels_tensor)\n",
    "\n",
    "#create the data loaders to be used to train the model\n",
    "train_loader = DataLoader(dataset, batch_size=batch_size, sampler=train_sampler)\n",
    "valid_loader = DataLoader(dataset, batch_size=batch_size, sampler=valid_sampler)\n",
    "test_loader = DataLoader(dataset,batch_size=batch_size, sampler=test_sampler)\n",
    "\n"
   ]
  },
  {
   "cell_type": "markdown",
   "id": "f4bf422c",
   "metadata": {},
   "source": [
    "## Define the Architecture\n",
    "---\n",
    "We are creating 3 seperate models that can be chosen based off of PARAM['model_arch']\n",
    "Each architecture adds more layers and neurons deepening the model as we go"
   ]
  },
  {
   "cell_type": "code",
   "execution_count": 18,
   "id": "97066dfe",
   "metadata": {},
   "outputs": [
    {
     "name": "stdout",
     "output_type": "stream",
     "text": [
      "Net(\n",
      "  (layer1): Linear(in_features=102, out_features=512, bias=True)\n",
      "  (layer2): Linear(in_features=512, out_features=256, bias=True)\n",
      "  (layer3): Linear(in_features=256, out_features=102, bias=True)\n",
      "  (layer4): Linear(in_features=102, out_features=102, bias=True)\n",
      "  (output): Linear(in_features=102, out_features=1, bias=True)\n",
      "  (dropout): Dropout(p=0.35, inplace=False)\n",
      ")\n"
     ]
    }
   ],
   "source": [
    "import torch.nn as nn\n",
    "import torch.nn.functional as F\n",
    "\n",
    "is_Dropout = True\n",
    "\n",
    "class Net(nn.Module):\n",
    "    def __init__(self):\n",
    "        super(Net, self).__init__()\n",
    "        \n",
    "        #defining the layers in the NN  \n",
    "        if PARAM['model_arch'] == 0 :\n",
    "            self.output = nn.Linear(102,1)\n",
    "        elif PARAM['model_arch'] == 1 :\n",
    "\n",
    "            self.layer1 = nn.Linear(102, 256)\n",
    "            self.layer2 = nn.Linear(256,102)\n",
    "            self.output = nn.Linear(102,1)\n",
    "        elif PARAM['model_arch'] == 2 :\n",
    "            self.layer1 = nn.Linear(102, 512)\n",
    "            self.layer2 = nn.Linear(512,256)\n",
    "            self.layer3 = nn.Linear(256,102)\n",
    "            self.layer4 = nn.Linear(102,102)\n",
    "            self.output = nn.Linear(102,1)\n",
    "\n",
    "        self.dropout = nn.Dropout(0.35)\n",
    "    \n",
    "    def forward(self, x):\n",
    "\n",
    "        if PARAM['model_arch'] == 0 :\n",
    "            x = F.sigmoid(self.output(x))\n",
    "        elif PARAM['model_arch'] == 1 : \n",
    "            x = F.relu(self.layer1(x))\n",
    "            x = F.relu(self.layer2(x))\n",
    "            if(is_Dropout) : x = self.dropout(x)\n",
    "            x = F.sigmoid(self.output(x))\n",
    "        elif PARAM['model_arch'] == 2 :\n",
    "            x = F.relu(self.layer1(x))\n",
    "            if(is_Dropout) : x = self.dropout(x)\n",
    "            x = F.relu(self.layer2(x))\n",
    "            if(is_Dropout) : x = self.dropout(x)\n",
    "            x = F.relu(self.layer3(x))\n",
    "            x = F.relu(self.layer4(x))\n",
    "            x = F.sigmoid(self.output(x))\n",
    "        return x\n",
    "\n",
    "\n",
    "model = Net()\n",
    "print(model)\n",
    "\n",
    "#move tensors to GPU if CUDA is available\n",
    "\n",
    "if train_on_gpu:\n",
    "    model.cuda()\n",
    "        "
   ]
  },
  {
   "cell_type": "markdown",
   "id": "7fc9c096",
   "metadata": {},
   "source": [
    "## Specify Loss Function and Optimizer\n"
   ]
  },
  {
   "cell_type": "code",
   "execution_count": 19,
   "id": "88953254",
   "metadata": {},
   "outputs": [
    {
     "name": "stdout",
     "output_type": "stream",
     "text": [
      "The optimizer you selected is: ADAM\n"
     ]
    }
   ],
   "source": [
    "import torch.optim as optim\n",
    "\n",
    "# specify loss function (categorical cross-entropy)\n",
    "criterion = nn.BCELoss()\n",
    "\n",
    "# specify optimizer\n",
    "if PARAM['optim'] == 'SGD':\n",
    "    optimizer = optim.SGD(model.parameters(), PARAM['learning_rate'])\n",
    "    print(\"The optimizer you selected is: SGD\")\n",
    "elif PARAM['optim'] ==  'ADAM':\n",
    "    print(\"The optimizer you selected is: ADAM\")\n",
    "    optimizer = optim.Adam(model.parameters(), PARAM['learning_rate'])"
   ]
  },
  {
   "cell_type": "markdown",
   "id": "4b9ba338",
   "metadata": {},
   "source": [
    "## Training the Network\n"
   ]
  },
  {
   "cell_type": "code",
   "execution_count": null,
   "id": "2a7435aa",
   "metadata": {},
   "outputs": [
    {
     "name": "stdout",
     "output_type": "stream",
     "text": [
      "Epoch: 1 \tTraining Loss: 0.487343 \tValidation Loss: 0.469392\n",
      "Validation loss decreased (inf --> 0.469392).  Saving model ...\n"
     ]
    }
   ],
   "source": [
    "import matplotlib.pyplot as plt\n",
    "\n",
    "valid_loss_min = np.Inf\n",
    "training_loss_list = []\n",
    "validation_loss_list = []\n",
    "\n",
    "overfit_Counter = 0\n",
    "\n",
    "for epoch in range(1, PARAM['n_epochs'] + 1):\n",
    "    train_loss = 0.0\n",
    "    valid_loss = 0.0\n",
    "    \n",
    "    model.train()\n",
    "    for batch_idx, (data, target) in enumerate(train_loader):\n",
    "        # move tensors to GPU if CUDA is available\n",
    "        if train_on_gpu:\n",
    "            data, target = data.cuda(), target.cuda()\n",
    "\n",
    "\n",
    "        optimizer.zero_grad()\n",
    "        # forward pass: compute predicted outputs by passing inputs to the model\n",
    "        output = model(data)\n",
    "        # calculate the batch loss\n",
    "        loss = criterion(output, target)\n",
    "        # backward pass: compute gradient of the loss with respect to model parameters\n",
    "        loss.backward()\n",
    "        optimizer.step()\n",
    "        train_loss += loss.item()*data.size(0)\n",
    "\n",
    "    model.eval()\n",
    "\n",
    "    for batch_idx, (data, target) in enumerate(valid_loader):\n",
    "        # move tensors to GPU if CUDA is available\n",
    "        if train_on_gpu:\n",
    "            data, target = data.cuda(), target.cuda()\n",
    "\n",
    "\n",
    "        # forward pass: compute predicted outputs by passing inputs to the model\n",
    "        output = model(data)\n",
    "        # calculate the batch loss\n",
    "        loss = criterion(output, target)\n",
    "        # update average validation loss \n",
    "        valid_loss += loss.item()*data.size(0)\n",
    "    \n",
    "    # calculate average losses\n",
    "    train_loss = train_loss/len(train_loader.sampler)\n",
    "    valid_loss = valid_loss/len(valid_loader.sampler)\n",
    "\n",
    "    training_loss_list.append(train_loss)\n",
    "    validation_loss_list.append(valid_loss)\n",
    "\n",
    "    # print training/validation statistics \n",
    "    print('Epoch: {} \\tTraining Loss: {:.6f} \\tValidation Loss: {:.6f}'.format(\n",
    "        epoch, train_loss, valid_loss))\n",
    "    \n",
    "    # save model if validation loss has decreased\n",
    "    if valid_loss <= valid_loss_min:\n",
    "        print('Validation loss decreased ({:.6f} --> {:.6f}).  Saving model ...'.format(\n",
    "        valid_loss_min,\n",
    "        valid_loss))\n",
    "        torch.save(model.state_dict(), 'model_trained.pt')\n",
    "        valid_loss_min = valid_loss\n",
    "        overfit_Counter = 0\n",
    "    else:\n",
    "        overfit_Counter+=1\n",
    "        if(overfit_Counter >= 3):\n",
    "            break\n",
    "\n",
    "\n",
    "#Plot the data to see the Training validation loss curve\n",
    "\n",
    "plt.plot(range(1, len(training_loss_list) + 1), training_loss_list, label='Training Loss',)\n",
    "plt.plot(range(1, len(validation_loss_list) + 1), validation_loss_list, label='Validation Loss',)\n",
    "\n",
    "plt.xlabel('Epoch')\n",
    "plt.ylabel('Loss')\n",
    "plt.title('Loss Over Epochs')\n",
    "plt.ylim(0.0, 1.0) \n",
    "plt.legend()\n",
    "plt.show()\n",
    "\n",
    "\n",
    "model.load_state_dict(torch.load('model_trained.pt'))"
   ]
  },
  {
   "cell_type": "markdown",
   "id": "e9def4ec",
   "metadata": {},
   "source": [
    "## Test the Network"
   ]
  },
  {
   "cell_type": "code",
   "execution_count": null,
   "id": "f493a4bf",
   "metadata": {},
   "outputs": [
    {
     "name": "stdout",
     "output_type": "stream",
     "text": [
      "Test Loss: 0.021603\n",
      "\n",
      "Test Accuracy of    CT: 76% (2329/3030)\n",
      "Test Accuracy of     T: 76% (2364/3091)\n",
      "\n",
      "Test Accuracy (Overall): 76% (4693/6121)\n"
     ]
    }
   ],
   "source": [
    "# track test loss\n",
    "test_loss = 0.0\n",
    "class_correct = list(0. for i in range(2))\n",
    "class_total = list(0. for i in range(2))\n",
    "classes = ['CT', 'T']\n",
    "\n",
    "model.eval()\n",
    "# iterate over test data\n",
    "for batch_idx, (data, target) in enumerate(test_loader):\n",
    "    # move tensors to GPU if CUDA is available\n",
    "    if train_on_gpu:\n",
    "        data, target = data.cuda(), target.cuda()\n",
    "    # forward pass: compute predicted outputs by passing inputs to the model\n",
    "    output = model(data)\n",
    "    # calculate the batch loss\n",
    "    loss = criterion(output, target)\n",
    "    # update test loss \n",
    "    test_loss += loss.item()*data.size(0)\n",
    "    # convert output probabilities to predicted class\n",
    "    pred = (output >= .5).float()\n",
    "    # compare predictions to true label\n",
    "    correct_tensor = pred.eq(target.data.view_as(pred))\n",
    "    correct = np.squeeze(correct_tensor.numpy()) if not train_on_gpu else np.squeeze(correct_tensor.cpu().numpy())\n",
    "    # calculate test accuracy for each object class\n",
    "\n",
    "    batch_size = data.size(0)\n",
    "    for i in range(batch_size):\n",
    "        label = int(target[i].item())\n",
    "        class_correct[label] += correct[i].item()\n",
    "        class_total[label] += 1\n",
    "\n",
    "# average test loss\n",
    "test_loss = test_loss/len(test_loader.dataset)\n",
    "print('Test Loss: {:.6f}\\n'.format(test_loss))\n",
    "\n",
    "\n",
    "for i in range(2):\n",
    "    if class_total[i] > 0:\n",
    "         print('Test Accuracy of %5s: %2d%% (%2d/%2d)' % (\n",
    "             classes[i], 100 * class_correct[i] / class_total[i],\n",
    "             int(class_correct[i]), int(class_total[i]))) # Cast sums to int for printing\n",
    "    else:\n",
    "         print('Test Accuracy of %5s: N/A (no training examples)' % (classes[i]))\n",
    "print('\\nTest Accuracy (Overall): %2d%% (%2d/%2d)' % (\n",
    "    100. * np.sum(class_correct) / np.sum(class_total),\n",
    "    int(np.sum(class_correct)), int(np.sum(class_total)))) # Cast sums to int for printing\n",
    "\n"
   ]
  }
 ],
 "metadata": {
  "kernelspec": {
   "display_name": "pytorch_env",
   "language": "python",
   "name": "python3"
  },
  "language_info": {
   "codemirror_mode": {
    "name": "ipython",
    "version": 3
   },
   "file_extension": ".py",
   "mimetype": "text/x-python",
   "name": "python",
   "nbconvert_exporter": "python",
   "pygments_lexer": "ipython3",
   "version": "3.8.20"
  }
 },
 "nbformat": 4,
 "nbformat_minor": 5
}
