{
 "cells": [
  {
   "cell_type": "code",
   "execution_count": null,
   "id": "e1d6980b",
   "metadata": {},
   "outputs": [],
   "source": []
  },
  {
   "cell_type": "code",
   "execution_count": 31,
   "id": "040d443d",
   "metadata": {},
   "outputs": [
    {
     "name": "stdout",
     "output_type": "stream",
     "text": [
      "CUDA is available!  Training on GPU ...\n"
     ]
    }
   ],
   "source": [
    "import torch\n",
    "import numpy as np\n",
    "\n",
    "# check if CUDA is available\n",
    "train_on_gpu = torch.cuda.is_available()\n",
    "\n",
    "if not train_on_gpu:\n",
    "    print('CUDA is not available.  Training on CPU ...')\n",
    "else:\n",
    "    print('CUDA is available!  Training on GPU ...')"
   ]
  },
  {
   "cell_type": "markdown",
   "id": "99016d58",
   "metadata": {},
   "source": [
    "## Load and Normalize the Data\n",
    "---\n",
    "We will load the data from the included csv file \"csgo_round_snapshots.csv\".\n"
   ]
  },
  {
   "cell_type": "code",
   "execution_count": 1,
   "id": "97ef3a43",
   "metadata": {},
   "outputs": [
    {
     "name": "stdout",
     "output_type": "stream",
     "text": [
      "   time_left  ct_score  t_score  bomb_planted  ct_health  t_health  ct_armor  \\\n",
      "0     175.00       0.0      0.0         False      500.0     500.0       0.0   \n",
      "1     156.03       0.0      0.0         False      500.0     500.0     400.0   \n",
      "2      96.03       0.0      0.0         False      391.0     400.0     294.0   \n",
      "3      76.03       0.0      0.0         False      391.0     400.0     294.0   \n",
      "4     174.97       1.0      0.0         False      500.0     500.0     192.0   \n",
      "\n",
      "   t_armor  ct_money  t_money  ...  t_grenade_molotovgrenade  \\\n",
      "0      0.0    4000.0   4000.0  ...                       0.0   \n",
      "1    300.0     600.0    650.0  ...                       0.0   \n",
      "2    200.0     750.0    500.0  ...                       0.0   \n",
      "3    200.0     750.0    500.0  ...                       0.0   \n",
      "4      0.0   18350.0  10750.0  ...                       0.0   \n",
      "\n",
      "   ct_grenade_decoygrenade  t_grenade_decoygrenade  map_de_dust2  \\\n",
      "0                      0.0                     0.0          True   \n",
      "1                      0.0                     0.0          True   \n",
      "2                      0.0                     0.0          True   \n",
      "3                      0.0                     0.0          True   \n",
      "4                      0.0                     0.0          True   \n",
      "\n",
      "   map_de_inferno  map_de_mirage  map_de_nuke  map_de_overpass  map_de_train  \\\n",
      "0           False          False        False            False         False   \n",
      "1           False          False        False            False         False   \n",
      "2           False          False        False            False         False   \n",
      "3           False          False        False            False         False   \n",
      "4           False          False        False            False         False   \n",
      "\n",
      "   map_de_vertigo  \n",
      "0           False  \n",
      "1           False  \n",
      "2           False  \n",
      "3           False  \n",
      "4           False  \n",
      "\n",
      "[5 rows x 102 columns]\n",
      "<class 'pandas.core.frame.DataFrame'>\n",
      "RangeIndex: 122410 entries, 0 to 122409\n",
      "Columns: 102 entries, time_left to map_de_vertigo\n",
      "dtypes: bool(8), float64(94)\n",
      "memory usage: 88.7 MB\n"
     ]
    }
   ],
   "source": [
    "import pandas as pd\n",
    "import numpy as np\n",
    "\n",
    "# percentage of training set to use as validation\n",
    "valid_size = 0.2\n",
    "\n",
    "\n",
    "#load the data into a dataframe using pandas\n",
    "df = pd.read_csv('csgo_round_snapshots.csv')\n",
    "\n",
    "# obtain training indices that will be used for validation\n",
    "num_train = len(df)\n",
    "indices = list(range(num_train))\n",
    "np.random.shuffle(indices)\n",
    "split = int(np.floor(valid_size * num_train))\n",
    "train_idx, valid_idx = indices[split:], indices[:split]\n",
    "\n",
    "#now we must seperate the features from the labels\n",
    "features = df.drop('round_winner', axis=1)\n",
    "labels   = df['round_winner']\n",
    "\n",
    "#perform one hot encoding on the map column\n",
    "features = pd.get_dummies(features,columns=['map'], drop_first=True)\n",
    "\n",
    "print(features.head())\n",
    "\n",
    "\n",
    "#Normalize all the numerical data types 'minmax' \n",
    "normalization_func = 'minmax'\n",
    "\n",
    "for column in features.columns:\n",
    "    #skips if column is a boolean\n",
    "    if pd.api.types.is_bool_dtype(features[column]):\n",
    "        continue\n",
    "\n",
    "    #skips if column does not change in value\n",
    "    if features[column].max() - features[column].min() == 0:\n",
    "        continue\n",
    "    \n",
    "    if normalization_func == 'minmax':\n",
    "        features[column] = (features[column] - features[column].min()) / (features[column].max() - features[column].min())\n",
    "    elif normalization_func == 'z_score':\n",
    "        features[column] = (features[column] - features[column].mean()) / features[column].std()\n",
    "    else:\n",
    "        continue\n",
    "    \n",
    "\n",
    "\n",
    "#shows a brief description of the dataset\n",
    "features.info()\n",
    "\n",
    "\n",
    "\n",
    "\n"
   ]
  },
  {
   "cell_type": "markdown",
   "id": "f4bf422c",
   "metadata": {},
   "source": [
    "## Define the Architecture\n",
    "\n",
    "---"
   ]
  },
  {
   "cell_type": "code",
   "execution_count": null,
   "id": "97066dfe",
   "metadata": {},
   "outputs": [],
   "source": [
    "import torch.nn as nn\n",
    "import torch.nn.functional as F\n",
    "\n",
    "class Net(nn.Module):\n",
    "    def __init__(self):\n",
    "        super(Net, self).__init__()\n",
    "        \n",
    "        #defining the layers in the NN\n",
    "        self.output = nn.Linear(102,1)\n",
    "\n",
    "    \n",
    "    def forward(self, x):\n",
    "\n",
    "        x = self.output(x)\n",
    "        return x\n",
    "\n",
    "\n",
    "model = Net()\n",
    "print(model)\n",
    "\n",
    "#move tensors to GPU if CUDA is available\n",
    "\n",
    "if train_on_gpu:\n",
    "    model.cuda()\n",
    "        "
   ]
  },
  {
   "cell_type": "markdown",
   "id": "7fc9c096",
   "metadata": {},
   "source": [
    "## Specify Loss Function and Optimizer\n"
   ]
  },
  {
   "cell_type": "code",
   "execution_count": null,
   "id": "88953254",
   "metadata": {},
   "outputs": [],
   "source": [
    "import torch.optim as optim\n",
    "\n",
    "# specify loss function (categorical cross-entropy)\n",
    "criterion = nn.CrossEntropyLoss()\n",
    "\n",
    "# specify optimizer\n",
    "optimizer = optim.SGD(model.parameters(), lr=0.01)"
   ]
  },
  {
   "cell_type": "markdown",
   "id": "4b9ba338",
   "metadata": {},
   "source": [
    "## Training the Network\n"
   ]
  },
  {
   "cell_type": "code",
   "execution_count": null,
   "id": "2a7435aa",
   "metadata": {},
   "outputs": [],
   "source": [
    "n_epochs = 100"
   ]
  }
 ],
 "metadata": {
  "kernelspec": {
   "display_name": "pytorch_env",
   "language": "python",
   "name": "python3"
  },
  "language_info": {
   "codemirror_mode": {
    "name": "ipython",
    "version": 3
   },
   "file_extension": ".py",
   "mimetype": "text/x-python",
   "name": "python",
   "nbconvert_exporter": "python",
   "pygments_lexer": "ipython3",
   "version": "3.8.20"
  }
 },
 "nbformat": 4,
 "nbformat_minor": 5
}
